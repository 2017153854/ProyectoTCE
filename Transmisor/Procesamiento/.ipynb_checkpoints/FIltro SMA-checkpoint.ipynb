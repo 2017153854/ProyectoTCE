{
 "cells": [
  {
   "cell_type": "code",
   "execution_count": 1,
   "id": "eedd9ab8-64d2-4b1e-b59c-c1d9d59fbb9a",
   "metadata": {},
   "outputs": [],
   "source": [
    "import pandas as pd\n",
    "\n",
    "def ejecutar_script(ruta_in, ruta_out):\n",
    "    # Carga el archivo .xlsx en un DataFrame de Pandas\n",
    "    data = pd.read_excel(ruta_in)\n",
    "\n",
    "    # Datos de BPM\n",
    "    bpm_data = data['BPM']\n",
    "\n",
    "    # Calcular SMA con una ventana de 3 puntos\n",
    "    SMA = bpm_data.rolling(window=3).mean()\n",
    "\n",
    "    # Eliminar filas con NaN\n",
    "    SMA = SMA.dropna()\n",
    "\n",
    "    # Guardar los datos de SMA en un nuevo archivo Excel\n",
    "    sma_datafra = pd.DataFrame({'SMA': SMA})\n",
    "    sma_datafra.to_excel(ruta_out, index=False)\n",
    "\n",
    "# Rutas de archivo de entrada y salida\n",
    "ruta_in = \"C:\\\\Users\\\\jeiso\\\\Documents\\\\Jupyter NoteBook\\\\Datos\\\\Dataset.xlsx\"\n",
    "ruta_out = \"C:\\\\Users\\\\jeiso\\\\Documents\\\\Jupyter NoteBook\\\\Procesamiento\\\\Filtro_SMA_Output.xlsx\"\n",
    "\n",
    "# Ejecutar el script\n",
    "ejecutar_script(ruta_in, ruta_out)\n"
   ]
  },
  {
   "cell_type": "code",
   "execution_count": null,
   "id": "694481aa-7291-438b-a846-5d92fde49d6b",
   "metadata": {},
   "outputs": [],
   "source": []
  }
 ],
 "metadata": {
  "kernelspec": {
   "display_name": "Python 3 (ipykernel)",
   "language": "python",
   "name": "python3"
  },
  "language_info": {
   "codemirror_mode": {
    "name": "ipython",
    "version": 3
   },
   "file_extension": ".py",
   "mimetype": "text/x-python",
   "name": "python",
   "nbconvert_exporter": "python",
   "pygments_lexer": "ipython3",
   "version": "3.11.7"
  }
 },
 "nbformat": 4,
 "nbformat_minor": 5
}
