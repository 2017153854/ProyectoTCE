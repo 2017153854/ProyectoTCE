{
 "cells": [
  {
   "cell_type": "code",
   "execution_count": 1,
   "id": "1c6b510e-5e0f-40fb-86bc-bdaf3206f361",
   "metadata": {},
   "outputs": [],
   "source": [
    "import pandas as pd\n",
    "import matplotlib.pyplot as plt\n",
    "\n",
    "import time\n"
   ]
  },
  {
   "cell_type": "code",
   "execution_count": 5,
   "id": "4cd73fae-28d5-42a8-8c91-00ab80bc046a",
   "metadata": {},
   "outputs": [
    {
     "name": "stdout",
     "output_type": "stream",
     "text": [
      "Tiempo promedio de ejecución para 200 iteraciones: 0.01731 segundos\n"
     ]
    }
   ],
   "source": [
    "def procesar_señal(ruta_data):\n",
    "    T_inicio = time.time()\n",
    "    \n",
    "    # Cargar el archivo .xlsx en un DataFrame de Pandas\n",
    "    data = pd.read_excel(ruta_data)\n",
    "\n",
    "    # Datos de BPM\n",
    "    bpm_señal = data['BPM']\n",
    "\n",
    "    # Calcular EMA con un factor de suavizado de 0.4 (alpha=0.4)\n",
    "    EMA = bpm_señal.ewm(alpha=0.4).mean()\n",
    "\n",
    "    # Calcular SMA con una ventana de 3 puntos\n",
    "    sma = bpm_señal.rolling(window=3).mean()\n",
    "\n",
    "    # Crear un DataFrame con las señales originales y filtradas\n",
    "    datafra = pd.DataFrame({'Original': bpm_señal, 'EMA': EMA, 'SMA': sma})\n",
    "\n",
    "    # Graficar las señales (comentado para ahorrar tiempo)\n",
    "    #plt.figure(figsize=(10, 6))\n",
    "    #plt.plot(datafra['Original'], label='Señal Original')\n",
    "    #plt.plot(datafra['EMA'], label='EMA Filtrado', linestyle='--')\n",
    "    #plt.plot(datafra['SMA'], label='SMA Filtrado', linestyle='-.')\n",
    "    #plt.title('Comparación de la Señal Original, EMA y SMA Filtrados')\n",
    "    #plt.xlabel('Tiempo')\n",
    "    #plt.ylabel('Valor')\n",
    "    #plt.legend()\n",
    "    #plt.grid(True)\n",
    "    #plt.show()\n",
    "    \n",
    "    T_final = time.time()\n",
    "    Runtime = T_final - T_inicio\n",
    "    return Runtime\n",
    "\n",
    "# Ruta del archivo\n",
    "ruta_data = \"C:\\\\Users\\\\jeiso\\\\Documents\\\\Jupyter NoteBook\\\\Datos\\\\Dataset.xlsx\"\n",
    "\n",
    "# Ejecutar el script 200 veces y calcular el tiempo promedio de ejecución\n",
    "Ttotal = 0\n",
    "iteraciones = 200\n",
    "for _ in range(iteraciones):\n",
    "    T_transcurrido = procesar_señal(ruta_data)\n",
    "    Ttotal += T_transcurrido\n",
    "\n",
    "T_ejecucion_promedio = Ttotal / iteraciones\n",
    "print(\"Tiempo promedio de ejecución para {} iteraciones: {:.5f} segundos\".format(iteraciones, T_ejecucion_promedio))\n",
    "\n"
   ]
  },
  {
   "cell_type": "code",
   "execution_count": null,
   "id": "51ebf237-3647-4cd0-a061-e3e567ae9d76",
   "metadata": {},
   "outputs": [],
   "source": []
  }
 ],
 "metadata": {
  "kernelspec": {
   "display_name": "Python 3 (ipykernel)",
   "language": "python",
   "name": "python3"
  },
  "language_info": {
   "codemirror_mode": {
    "name": "ipython",
    "version": 3
   },
   "file_extension": ".py",
   "mimetype": "text/x-python",
   "name": "python",
   "nbconvert_exporter": "python",
   "pygments_lexer": "ipython3",
   "version": "3.11.7"
  }
 },
 "nbformat": 4,
 "nbformat_minor": 5
}
