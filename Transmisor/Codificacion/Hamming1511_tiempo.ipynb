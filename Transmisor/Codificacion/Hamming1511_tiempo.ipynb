{
 "cells": [
  {
   "cell_type": "code",
   "execution_count": 1,
   "id": "06cbb816-1aa7-42d0-b477-4cedd8cfc4b8",
   "metadata": {},
   "outputs": [],
   "source": [
    "import pandas as pd\n",
    "import time"
   ]
  },
  {
   "cell_type": "code",
   "execution_count": 3,
   "id": "bb7f287c-7622-4b3d-af3a-43b75e370e6c",
   "metadata": {},
   "outputs": [
    {
     "name": "stdout",
     "output_type": "stream",
     "text": [
      "Tiempo promedio de ejecución: 0.00048703789710998537 s\n"
     ]
    }
   ],
   "source": [
    "def codificar_hamming(datos):\n",
    "    \"\"\"Codifica 11 bits de datos en una palabra de código Hamming(15,11), es decir 15 bits.\"\"\"\n",
    "    # Inicializar bits de paridad\n",
    "    paridad = [0, 0, 0, 0]\n",
    "\n",
    "    # Calcular bits de paridad\n",
    "    paridad[0] = datos[0] ^ datos[1] ^ datos[3] ^ datos[4] ^ datos[6] ^ datos[8] ^ datos[10]\n",
    "    paridad[1] = datos[0] ^ datos[2] ^ datos[3] ^ datos[5] ^ datos[6] ^ datos[9] ^ datos[10]\n",
    "    paridad[2] = datos[1] ^ datos[2] ^ datos[3] ^ datos[7] ^ datos[8] ^ datos[9] ^ datos[10]\n",
    "    paridad[3] = datos[4] ^ datos[5] ^ datos[6] ^ datos[7] ^ datos[8] ^ datos[9] ^ datos[10]\n",
    "\n",
    "    # Construir la palabra de código\n",
    "    palabra_codigo = [paridad[0], paridad[1], datos[0], paridad[2], datos[1], datos[2], datos[3],\n",
    "                      paridad[3], datos[4], datos[5], datos[6], datos[7], datos[8], datos[9], datos[10]]\n",
    "    return palabra_codigo\n",
    "\n",
    "def decodificar_hamming(datos_codificados):\n",
    "    datos_decodificados = []\n",
    "\n",
    "    # Dividir los datos codificados en bloques de 15 bits y decodificar cada bloque\n",
    "    for i in range(0, len(datos_codificados), 15):\n",
    "        bloque_codificado = datos_codificados[i:i+15]\n",
    "        # Calcular bits de paridad\n",
    "        p1 = bloque_codificado[0]\n",
    "        p2 = bloque_codificado[1]\n",
    "        p3 = bloque_codificado[3]\n",
    "        p4 = bloque_codificado[7]\n",
    "        p5 = bloque_codificado[14]\n",
    "        # Calcular errores\n",
    "        e1 = p1 ^ bloque_codificado[2] ^ bloque_codificado[4] ^ bloque_codificado[6] ^ bloque_codificado[8] ^ bloque_codificado[10] ^ bloque_codificado[12] ^ bloque_codificado[14]\n",
    "        e2 = p2 ^ bloque_codificado[2] ^ bloque_codificado[5] ^ bloque_codificado[6] ^ bloque_codificado[9] ^ bloque_codificado[10] ^ bloque_codificado[13] ^ bloque_codificado[14]\n",
    "        e3 = p3 ^ bloque_codificado[4] ^ bloque_codificado[5] ^ bloque_codificado[6] ^ bloque_codificado[11] ^ bloque_codificado[12] ^ bloque_codificado[13] ^ bloque_codificado[14]\n",
    "        e4 = p4 ^ bloque_codificado[8] ^ bloque_codificado[9] ^ bloque_codificado[10] ^ bloque_codificado[11] ^ bloque_codificado[12] ^ bloque_codificado[13] ^ bloque_codificado[14]\n",
    "        e5 = p5 ^ bloque_codificado[0] ^ bloque_codificado[1] ^ bloque_codificado[2] ^ bloque_codificado[3] ^ bloque_codificado[4] ^ bloque_codificado[5] ^ bloque_codificado[6] ^ bloque_codificado[7] ^ bloque_codificado[8] ^ bloque_codificado[9] ^ bloque_codificado[10] ^ bloque_codificado[11] ^ bloque_codificado[12] ^ bloque_codificado[13] ^ bloque_codificado[14]\n",
    "\n",
    "        # Calcular posición del error\n",
    "        pos_error = e1 + e2 * 2 + e3 * 4 + e4 * 8 + e5 * 16 - 1\n",
    "        # Corregir el error si está dentro del rango de bloque_codificado\n",
    "        if pos_error >= 0 and pos_error < 15:\n",
    "            bloque_codificado[pos_error] ^= 1\n",
    "        # Extraer datos\n",
    "        datos_decodificados.extend([bloque_codificado[2], bloque_codificado[4], bloque_codificado[5], bloque_codificado[6], bloque_codificado[8], bloque_codificado[9], bloque_codificado[10], bloque_codificado[11], bloque_codificado[12], bloque_codificado[13], bloque_codificado[14]])\n",
    "\n",
    "    return datos_decodificados\n",
    "\n",
    "# Ruta al archivo Excel\n",
    "archivo_datos = \"C:\\\\Users\\\\jeiso\\\\Documents\\\\Jupyter NoteBook\\\\Datos\\\\Dataset.xlsx\"\n",
    "\n",
    "# Leer el archivo Excel en un DataFrame de pandas\n",
    "datos_excel = pd.read_excel(archivo_datos)\n",
    "\n",
    "# Redondear y convertir la columna 'BPM' a enteros\n",
    "datos_excel['BPM'] = datos_excel['BPM'].round().astype(int)\n",
    "\n",
    "# Convertir los datos de la columna 'BPM' a su representación binaria de 8 bits en un arreglo\n",
    "lista_datos = datos_excel['BPM'].apply(lambda x: [int(bit) for bit in format(x, '011b')]).tolist()\n",
    "\n",
    "# Inicializar una lista vacía para almacenar los datos codificados\n",
    "lista_datos_codificados = []\n",
    "\n",
    "# Número de ejecuciones\n",
    "num_ejecuciones = 200\n",
    "tiempo_total_ejecucion = 0\n",
    "\n",
    "for _ in range(num_ejecuciones):\n",
    "    inicio_tiempo = time.time()\n",
    "    # Codificar y decodificar cada conjunto de datos en lista_datos\n",
    "    for datos in lista_datos:\n",
    "        palabra_codigo = codificar_hamming(datos)\n",
    "        datos_decodificados = decodificar_hamming(palabra_codigo)\n",
    "    fin_tiempo = time.time()\n",
    "    tiempo_total_ejecucion += fin_tiempo - inicio_tiempo\n",
    "\n",
    "# Calcular el tiempo promedio de ejecución\n",
    "tiempo_promedio_ejecucion = tiempo_total_ejecucion / num_ejecuciones\n",
    "\n",
    "print(\"Tiempo promedio de ejecución:\", tiempo_promedio_ejecucion, \"s\")\n"
   ]
  },
  {
   "cell_type": "code",
   "execution_count": null,
   "id": "9f340801-df2f-4fdc-9d51-c638918405de",
   "metadata": {},
   "outputs": [],
   "source": []
  }
 ],
 "metadata": {
  "kernelspec": {
   "display_name": "Python 3 (ipykernel)",
   "language": "python",
   "name": "python3"
  },
  "language_info": {
   "codemirror_mode": {
    "name": "ipython",
    "version": 3
   },
   "file_extension": ".py",
   "mimetype": "text/x-python",
   "name": "python",
   "nbconvert_exporter": "python",
   "pygments_lexer": "ipython3",
   "version": "3.11.7"
  }
 },
 "nbformat": 4,
 "nbformat_minor": 5
}
